{
 "cells": [
  {
   "cell_type": "markdown",
   "id": "c65732bc",
   "metadata": {},
   "source": [
    "# Import Data & Library"
   ]
  },
  {
   "cell_type": "code",
   "execution_count": 1,
   "id": "3e35bcde",
   "metadata": {},
   "outputs": [
    {
     "name": "stderr",
     "output_type": "stream",
     "text": [
      "C:\\Users\\Mutiara Saviera\\anaconda3\\lib\\site-packages\\scipy\\__init__.py:146: UserWarning: A NumPy version >=1.16.5 and <1.23.0 is required for this version of SciPy (detected version 1.23.1\n",
      "  warnings.warn(f\"A NumPy version >={np_minversion} and <{np_maxversion}\"\n"
     ]
    }
   ],
   "source": [
    "import pandas as pd\n",
    "import numpy as np\n",
    "import seaborn as sns\n",
    "from scipy import stats\n",
    "import matplotlib.pyplot as plt"
   ]
  },
  {
   "cell_type": "code",
   "execution_count": 2,
   "id": "7e0fd0ea",
   "metadata": {},
   "outputs": [
    {
     "data": {
      "text/html": [
       "<div>\n",
       "<style scoped>\n",
       "    .dataframe tbody tr th:only-of-type {\n",
       "        vertical-align: middle;\n",
       "    }\n",
       "\n",
       "    .dataframe tbody tr th {\n",
       "        vertical-align: top;\n",
       "    }\n",
       "\n",
       "    .dataframe thead th {\n",
       "        text-align: right;\n",
       "    }\n",
       "</style>\n",
       "<table border=\"1\" class=\"dataframe\">\n",
       "  <thead>\n",
       "    <tr style=\"text-align: right;\">\n",
       "      <th></th>\n",
       "      <th>age</th>\n",
       "      <th>sex</th>\n",
       "      <th>bmi</th>\n",
       "      <th>children</th>\n",
       "      <th>smoker</th>\n",
       "      <th>region</th>\n",
       "      <th>charges</th>\n",
       "    </tr>\n",
       "  </thead>\n",
       "  <tbody>\n",
       "    <tr>\n",
       "      <th>0</th>\n",
       "      <td>19</td>\n",
       "      <td>female</td>\n",
       "      <td>27.900</td>\n",
       "      <td>0</td>\n",
       "      <td>yes</td>\n",
       "      <td>southwest</td>\n",
       "      <td>16884.92400</td>\n",
       "    </tr>\n",
       "    <tr>\n",
       "      <th>1</th>\n",
       "      <td>18</td>\n",
       "      <td>male</td>\n",
       "      <td>33.770</td>\n",
       "      <td>1</td>\n",
       "      <td>no</td>\n",
       "      <td>southeast</td>\n",
       "      <td>1725.55230</td>\n",
       "    </tr>\n",
       "    <tr>\n",
       "      <th>2</th>\n",
       "      <td>28</td>\n",
       "      <td>male</td>\n",
       "      <td>33.000</td>\n",
       "      <td>3</td>\n",
       "      <td>no</td>\n",
       "      <td>southeast</td>\n",
       "      <td>4449.46200</td>\n",
       "    </tr>\n",
       "    <tr>\n",
       "      <th>3</th>\n",
       "      <td>33</td>\n",
       "      <td>male</td>\n",
       "      <td>22.705</td>\n",
       "      <td>0</td>\n",
       "      <td>no</td>\n",
       "      <td>northwest</td>\n",
       "      <td>21984.47061</td>\n",
       "    </tr>\n",
       "    <tr>\n",
       "      <th>4</th>\n",
       "      <td>32</td>\n",
       "      <td>male</td>\n",
       "      <td>28.880</td>\n",
       "      <td>0</td>\n",
       "      <td>no</td>\n",
       "      <td>northwest</td>\n",
       "      <td>3866.85520</td>\n",
       "    </tr>\n",
       "    <tr>\n",
       "      <th>...</th>\n",
       "      <td>...</td>\n",
       "      <td>...</td>\n",
       "      <td>...</td>\n",
       "      <td>...</td>\n",
       "      <td>...</td>\n",
       "      <td>...</td>\n",
       "      <td>...</td>\n",
       "    </tr>\n",
       "    <tr>\n",
       "      <th>1333</th>\n",
       "      <td>50</td>\n",
       "      <td>male</td>\n",
       "      <td>30.970</td>\n",
       "      <td>3</td>\n",
       "      <td>no</td>\n",
       "      <td>northwest</td>\n",
       "      <td>10600.54830</td>\n",
       "    </tr>\n",
       "    <tr>\n",
       "      <th>1334</th>\n",
       "      <td>18</td>\n",
       "      <td>female</td>\n",
       "      <td>31.920</td>\n",
       "      <td>0</td>\n",
       "      <td>no</td>\n",
       "      <td>northeast</td>\n",
       "      <td>2205.98080</td>\n",
       "    </tr>\n",
       "    <tr>\n",
       "      <th>1335</th>\n",
       "      <td>18</td>\n",
       "      <td>female</td>\n",
       "      <td>36.850</td>\n",
       "      <td>0</td>\n",
       "      <td>no</td>\n",
       "      <td>southeast</td>\n",
       "      <td>1629.83350</td>\n",
       "    </tr>\n",
       "    <tr>\n",
       "      <th>1336</th>\n",
       "      <td>21</td>\n",
       "      <td>female</td>\n",
       "      <td>25.800</td>\n",
       "      <td>0</td>\n",
       "      <td>no</td>\n",
       "      <td>southwest</td>\n",
       "      <td>2007.94500</td>\n",
       "    </tr>\n",
       "    <tr>\n",
       "      <th>1337</th>\n",
       "      <td>61</td>\n",
       "      <td>female</td>\n",
       "      <td>29.070</td>\n",
       "      <td>0</td>\n",
       "      <td>yes</td>\n",
       "      <td>northwest</td>\n",
       "      <td>29141.36030</td>\n",
       "    </tr>\n",
       "  </tbody>\n",
       "</table>\n",
       "<p>1338 rows × 7 columns</p>\n",
       "</div>"
      ],
      "text/plain": [
       "      age     sex     bmi  children smoker     region      charges\n",
       "0      19  female  27.900         0    yes  southwest  16884.92400\n",
       "1      18    male  33.770         1     no  southeast   1725.55230\n",
       "2      28    male  33.000         3     no  southeast   4449.46200\n",
       "3      33    male  22.705         0     no  northwest  21984.47061\n",
       "4      32    male  28.880         0     no  northwest   3866.85520\n",
       "...   ...     ...     ...       ...    ...        ...          ...\n",
       "1333   50    male  30.970         3     no  northwest  10600.54830\n",
       "1334   18  female  31.920         0     no  northeast   2205.98080\n",
       "1335   18  female  36.850         0     no  southeast   1629.83350\n",
       "1336   21  female  25.800         0     no  southwest   2007.94500\n",
       "1337   61  female  29.070         0    yes  northwest  29141.36030\n",
       "\n",
       "[1338 rows x 7 columns]"
      ]
     },
     "execution_count": 2,
     "metadata": {},
     "output_type": "execute_result"
    }
   ],
   "source": [
    "df = pd.read_csv('D:/insurance.csv', encoding='utf-8')\n",
    "df"
   ]
  },
  {
   "cell_type": "code",
   "execution_count": 3,
   "id": "454eae41",
   "metadata": {},
   "outputs": [
    {
     "name": "stdout",
     "output_type": "stream",
     "text": [
      "<class 'pandas.core.frame.DataFrame'>\n",
      "RangeIndex: 1338 entries, 0 to 1337\n",
      "Data columns (total 7 columns):\n",
      " #   Column    Non-Null Count  Dtype  \n",
      "---  ------    --------------  -----  \n",
      " 0   age       1338 non-null   int64  \n",
      " 1   sex       1338 non-null   object \n",
      " 2   bmi       1338 non-null   float64\n",
      " 3   children  1338 non-null   int64  \n",
      " 4   smoker    1338 non-null   object \n",
      " 5   region    1338 non-null   object \n",
      " 6   charges   1338 non-null   float64\n",
      "dtypes: float64(2), int64(2), object(3)\n",
      "memory usage: 73.3+ KB\n"
     ]
    }
   ],
   "source": [
    "df.info()"
   ]
  },
  {
   "cell_type": "markdown",
   "id": "ecbfae05",
   "metadata": {},
   "source": [
    "There are 1338 rows with 7 variables, consist of 4 numeric variables and 3 categoric variables."
   ]
  },
  {
   "cell_type": "code",
   "execution_count": 4,
   "id": "e4199780",
   "metadata": {},
   "outputs": [
    {
     "data": {
      "text/plain": [
       "age         0\n",
       "sex         0\n",
       "bmi         0\n",
       "children    0\n",
       "smoker      0\n",
       "region      0\n",
       "charges     0\n",
       "dtype: int64"
      ]
     },
     "execution_count": 4,
     "metadata": {},
     "output_type": "execute_result"
    }
   ],
   "source": [
    "df.isnull().sum()"
   ]
  },
  {
   "cell_type": "markdown",
   "id": "a7003bbd",
   "metadata": {},
   "source": [
    "No missing values"
   ]
  },
  {
   "cell_type": "markdown",
   "id": "25ceb201",
   "metadata": {},
   "source": [
    "# Descriptive Statistic"
   ]
  },
  {
   "cell_type": "code",
   "execution_count": 5,
   "id": "fba19c78",
   "metadata": {},
   "outputs": [
    {
     "data": {
      "text/html": [
       "<div>\n",
       "<style scoped>\n",
       "    .dataframe tbody tr th:only-of-type {\n",
       "        vertical-align: middle;\n",
       "    }\n",
       "\n",
       "    .dataframe tbody tr th {\n",
       "        vertical-align: top;\n",
       "    }\n",
       "\n",
       "    .dataframe thead th {\n",
       "        text-align: right;\n",
       "    }\n",
       "</style>\n",
       "<table border=\"1\" class=\"dataframe\">\n",
       "  <thead>\n",
       "    <tr style=\"text-align: right;\">\n",
       "      <th></th>\n",
       "      <th>age</th>\n",
       "      <th>bmi</th>\n",
       "      <th>children</th>\n",
       "      <th>charges</th>\n",
       "    </tr>\n",
       "  </thead>\n",
       "  <tbody>\n",
       "    <tr>\n",
       "      <th>count</th>\n",
       "      <td>1338.000000</td>\n",
       "      <td>1338.000000</td>\n",
       "      <td>1338.000000</td>\n",
       "      <td>1338.000000</td>\n",
       "    </tr>\n",
       "    <tr>\n",
       "      <th>mean</th>\n",
       "      <td>39.207025</td>\n",
       "      <td>30.663397</td>\n",
       "      <td>1.094918</td>\n",
       "      <td>13270.422265</td>\n",
       "    </tr>\n",
       "    <tr>\n",
       "      <th>std</th>\n",
       "      <td>14.049960</td>\n",
       "      <td>6.098187</td>\n",
       "      <td>1.205493</td>\n",
       "      <td>12110.011237</td>\n",
       "    </tr>\n",
       "    <tr>\n",
       "      <th>min</th>\n",
       "      <td>18.000000</td>\n",
       "      <td>15.960000</td>\n",
       "      <td>0.000000</td>\n",
       "      <td>1121.873900</td>\n",
       "    </tr>\n",
       "    <tr>\n",
       "      <th>25%</th>\n",
       "      <td>27.000000</td>\n",
       "      <td>26.296250</td>\n",
       "      <td>0.000000</td>\n",
       "      <td>4740.287150</td>\n",
       "    </tr>\n",
       "    <tr>\n",
       "      <th>50%</th>\n",
       "      <td>39.000000</td>\n",
       "      <td>30.400000</td>\n",
       "      <td>1.000000</td>\n",
       "      <td>9382.033000</td>\n",
       "    </tr>\n",
       "    <tr>\n",
       "      <th>75%</th>\n",
       "      <td>51.000000</td>\n",
       "      <td>34.693750</td>\n",
       "      <td>2.000000</td>\n",
       "      <td>16639.912515</td>\n",
       "    </tr>\n",
       "    <tr>\n",
       "      <th>max</th>\n",
       "      <td>64.000000</td>\n",
       "      <td>53.130000</td>\n",
       "      <td>5.000000</td>\n",
       "      <td>63770.428010</td>\n",
       "    </tr>\n",
       "  </tbody>\n",
       "</table>\n",
       "</div>"
      ],
      "text/plain": [
       "               age          bmi     children       charges\n",
       "count  1338.000000  1338.000000  1338.000000   1338.000000\n",
       "mean     39.207025    30.663397     1.094918  13270.422265\n",
       "std      14.049960     6.098187     1.205493  12110.011237\n",
       "min      18.000000    15.960000     0.000000   1121.873900\n",
       "25%      27.000000    26.296250     0.000000   4740.287150\n",
       "50%      39.000000    30.400000     1.000000   9382.033000\n",
       "75%      51.000000    34.693750     2.000000  16639.912515\n",
       "max      64.000000    53.130000     5.000000  63770.428010"
      ]
     },
     "execution_count": 5,
     "metadata": {},
     "output_type": "execute_result"
    }
   ],
   "source": [
    "df.describe()"
   ]
  },
  {
   "cell_type": "markdown",
   "id": "f680c11d",
   "metadata": {},
   "source": [
    "Based on overall data:\n",
    "- Mean of age is 39.21\n",
    "- Mean of BMI is 30.66\n",
    "- Mean of children or number dependents is 1.1\n",
    "- Mean of charges or medical costs personal is 13270.42"
   ]
  },
  {
   "cell_type": "code",
   "execution_count": 6,
   "id": "c846546a",
   "metadata": {},
   "outputs": [
    {
     "name": "stdout",
     "output_type": "stream",
     "text": [
      "Mean of BMI (smoker): 30.708448905109503\n"
     ]
    }
   ],
   "source": [
    "df_smoker = df[(df[\"smoker\"] == \"yes\")]\n",
    "print(\"Mean of BMI (smoker):\", df_smoker[\"bmi\"].mean())"
   ]
  },
  {
   "cell_type": "markdown",
   "id": "12480b0e",
   "metadata": {},
   "source": [
    "Ideally, BMI range is between 18.5 to 24.9. But, the data shows average BMI of smoker is 30.71, which is so high."
   ]
  },
  {
   "cell_type": "code",
   "execution_count": 7,
   "id": "0f177b92",
   "metadata": {},
   "outputs": [
    {
     "name": "stdout",
     "output_type": "stream",
     "text": [
      "Mean of BMI (non smoker): 30.651795112781922\n"
     ]
    }
   ],
   "source": [
    "df_non_smoker = df[(df[\"smoker\"] == \"no\")]\n",
    "print(\"Mean of BMI (non smoker):\", df_non_smoker[\"bmi\"].mean())"
   ]
  },
  {
   "cell_type": "markdown",
   "id": "047c4b6c",
   "metadata": {},
   "source": [
    "But, mean of BMI for non smoker is also high."
   ]
  },
  {
   "cell_type": "code",
   "execution_count": 8,
   "id": "619c71e4",
   "metadata": {},
   "outputs": [
    {
     "name": "stdout",
     "output_type": "stream",
     "text": [
      "Mean of female smoker age: 38.608695652173914\n",
      "Mean of male smoker age: 38.44654088050314\n",
      "Is it same? False\n"
     ]
    }
   ],
   "source": [
    "df_female_smoker = df[(df[\"sex\"] == \"female\") & (df[\"smoker\"] == \"yes\")]\n",
    "df_male_smoker = df[(df[\"sex\"] == \"male\") & (df[\"smoker\"] == \"yes\")]\n",
    "\n",
    "x = df_female_smoker['age'].mean()\n",
    "y = df_male_smoker['age'].mean()\n",
    "\n",
    "print(\"Mean of female smoker age:\", x)\n",
    "print(\"Mean of male smoker age:\", y)\n",
    "\n",
    "print (\"Is it same?\", x == y)"
   ]
  },
  {
   "cell_type": "code",
   "execution_count": 9,
   "id": "fe18a16b",
   "metadata": {},
   "outputs": [
    {
     "name": "stdout",
     "output_type": "stream",
     "text": [
      "Mean of smoker charges: 32050.23183153285\n",
      "Mean of non smoker charges: 8434.268297856199\n"
     ]
    }
   ],
   "source": [
    "charge_smoker = df_smoker['charges'].mean()\n",
    "charge_non_smoker = df_non_smoker['charges'].mean()\n",
    "\n",
    "print(\"Mean of smoker charges:\", charge_smoker)\n",
    "print(\"Mean of non smoker charges:\", charge_non_smoker)"
   ]
  },
  {
   "cell_type": "code",
   "execution_count": 10,
   "id": "4b6b4e40",
   "metadata": {},
   "outputs": [
    {
     "name": "stdout",
     "output_type": "stream",
     "text": [
      "Mean of smoker charge (BMI > 25): 35116.90965694065\n",
      "Mean of non smoker charge (BMI > 25): 8629.589609712148\n"
     ]
    }
   ],
   "source": [
    "df_smoker_bmi = df_smoker[(df_smoker[\"bmi\"]) > 25]\n",
    "df_non_smoker_bmi = df_non_smoker[(df_non_smoker[\"bmi\"]) > 25]\n",
    "\n",
    "charge_smoker_bmi = df_smoker_bmi['charges'].mean()\n",
    "charge_non_smoker_bmi = df_non_smoker_bmi['charges'].mean()\n",
    "\n",
    "print(\"Mean of smoker charge (BMI > 25):\", charge_smoker_bmi)\n",
    "print(\"Mean of non smoker charge (BMI > 25):\", charge_non_smoker_bmi)"
   ]
  },
  {
   "cell_type": "markdown",
   "id": "c9de702c",
   "metadata": {},
   "source": [
    "# Categoric Variables"
   ]
  },
  {
   "cell_type": "code",
   "execution_count": 11,
   "id": "1215e62b",
   "metadata": {},
   "outputs": [
    {
     "data": {
      "text/plain": [
       "southeast    364\n",
       "southwest    325\n",
       "northwest    325\n",
       "northeast    324\n",
       "Name: region, dtype: int64"
      ]
     },
     "execution_count": 11,
     "metadata": {},
     "output_type": "execute_result"
    }
   ],
   "source": [
    "df[\"region\"].value_counts()"
   ]
  },
  {
   "cell_type": "code",
   "execution_count": 12,
   "id": "233da488",
   "metadata": {},
   "outputs": [
    {
     "name": "stdout",
     "output_type": "stream",
     "text": [
      "Proportion of region 1 (southeast): 0.27204783258594917\n",
      "Proportion of region 2 (southwest): 0.2428998505231689\n",
      "Proportion of region 3 (northwest): 0.2428998505231689\n",
      "Proportion of region 4 (northeast): 0.242152466367713\n"
     ]
    }
   ],
   "source": [
    "p1 = len(df[df[\"region\"]=='southeast'])/len(df)\n",
    "p2 = len(df[df[\"region\"]=='southwest'])/len(df)\n",
    "p3 = len(df[df[\"region\"]=='northwest'])/len(df)\n",
    "p4 = len(df[df[\"region\"]=='northeast'])/len(df)\n",
    "\n",
    "print(\"Proportion of region 1 (southeast):\",p1)\n",
    "print(\"Proportion of region 2 (southwest):\",p2)\n",
    "print(\"Proportion of region 3 (northwest):\",p3)\n",
    "print(\"Proportion of region 4 (northeast):\",p4)"
   ]
  },
  {
   "cell_type": "code",
   "execution_count": 13,
   "id": "8297a664",
   "metadata": {},
   "outputs": [
    {
     "name": "stdout",
     "output_type": "stream",
     "text": [
      "Proportion of smoker: 0.20478325859491778\n",
      "Proportion of non smoker: 0.7952167414050823\n"
     ]
    }
   ],
   "source": [
    "p_smoker = len(df[df[\"smoker\"]=='yes'])/len(df)\n",
    "p_non_smoker = len(df[df[\"smoker\"]=='no'])/len(df)\n",
    "\n",
    "print(\"Proportion of smoker:\",p_smoker)\n",
    "print(\"Proportion of non smoker:\",p_non_smoker)"
   ]
  },
  {
   "cell_type": "code",
   "execution_count": 14,
   "id": "be638d40",
   "metadata": {},
   "outputs": [
    {
     "data": {
      "text/html": [
       "<div>\n",
       "<style scoped>\n",
       "    .dataframe tbody tr th:only-of-type {\n",
       "        vertical-align: middle;\n",
       "    }\n",
       "\n",
       "    .dataframe tbody tr th {\n",
       "        vertical-align: top;\n",
       "    }\n",
       "\n",
       "    .dataframe thead th {\n",
       "        text-align: right;\n",
       "    }\n",
       "</style>\n",
       "<table border=\"1\" class=\"dataframe\">\n",
       "  <thead>\n",
       "    <tr style=\"text-align: right;\">\n",
       "      <th></th>\n",
       "      <th>age</th>\n",
       "      <th>sex</th>\n",
       "      <th>bmi</th>\n",
       "      <th>children</th>\n",
       "      <th>smoker</th>\n",
       "      <th>region</th>\n",
       "      <th>charges</th>\n",
       "    </tr>\n",
       "  </thead>\n",
       "  <tbody>\n",
       "    <tr>\n",
       "      <th>1</th>\n",
       "      <td>18</td>\n",
       "      <td>male</td>\n",
       "      <td>33.770</td>\n",
       "      <td>1</td>\n",
       "      <td>no</td>\n",
       "      <td>southeast</td>\n",
       "      <td>1725.55230</td>\n",
       "    </tr>\n",
       "    <tr>\n",
       "      <th>2</th>\n",
       "      <td>28</td>\n",
       "      <td>male</td>\n",
       "      <td>33.000</td>\n",
       "      <td>3</td>\n",
       "      <td>no</td>\n",
       "      <td>southeast</td>\n",
       "      <td>4449.46200</td>\n",
       "    </tr>\n",
       "    <tr>\n",
       "      <th>3</th>\n",
       "      <td>33</td>\n",
       "      <td>male</td>\n",
       "      <td>22.705</td>\n",
       "      <td>0</td>\n",
       "      <td>no</td>\n",
       "      <td>northwest</td>\n",
       "      <td>21984.47061</td>\n",
       "    </tr>\n",
       "    <tr>\n",
       "      <th>4</th>\n",
       "      <td>32</td>\n",
       "      <td>male</td>\n",
       "      <td>28.880</td>\n",
       "      <td>0</td>\n",
       "      <td>no</td>\n",
       "      <td>northwest</td>\n",
       "      <td>3866.85520</td>\n",
       "    </tr>\n",
       "    <tr>\n",
       "      <th>5</th>\n",
       "      <td>31</td>\n",
       "      <td>female</td>\n",
       "      <td>25.740</td>\n",
       "      <td>0</td>\n",
       "      <td>no</td>\n",
       "      <td>southeast</td>\n",
       "      <td>3756.62160</td>\n",
       "    </tr>\n",
       "    <tr>\n",
       "      <th>...</th>\n",
       "      <td>...</td>\n",
       "      <td>...</td>\n",
       "      <td>...</td>\n",
       "      <td>...</td>\n",
       "      <td>...</td>\n",
       "      <td>...</td>\n",
       "      <td>...</td>\n",
       "    </tr>\n",
       "    <tr>\n",
       "      <th>1332</th>\n",
       "      <td>52</td>\n",
       "      <td>female</td>\n",
       "      <td>44.700</td>\n",
       "      <td>3</td>\n",
       "      <td>no</td>\n",
       "      <td>southwest</td>\n",
       "      <td>11411.68500</td>\n",
       "    </tr>\n",
       "    <tr>\n",
       "      <th>1333</th>\n",
       "      <td>50</td>\n",
       "      <td>male</td>\n",
       "      <td>30.970</td>\n",
       "      <td>3</td>\n",
       "      <td>no</td>\n",
       "      <td>northwest</td>\n",
       "      <td>10600.54830</td>\n",
       "    </tr>\n",
       "    <tr>\n",
       "      <th>1334</th>\n",
       "      <td>18</td>\n",
       "      <td>female</td>\n",
       "      <td>31.920</td>\n",
       "      <td>0</td>\n",
       "      <td>no</td>\n",
       "      <td>northeast</td>\n",
       "      <td>2205.98080</td>\n",
       "    </tr>\n",
       "    <tr>\n",
       "      <th>1335</th>\n",
       "      <td>18</td>\n",
       "      <td>female</td>\n",
       "      <td>36.850</td>\n",
       "      <td>0</td>\n",
       "      <td>no</td>\n",
       "      <td>southeast</td>\n",
       "      <td>1629.83350</td>\n",
       "    </tr>\n",
       "    <tr>\n",
       "      <th>1336</th>\n",
       "      <td>21</td>\n",
       "      <td>female</td>\n",
       "      <td>25.800</td>\n",
       "      <td>0</td>\n",
       "      <td>no</td>\n",
       "      <td>southwest</td>\n",
       "      <td>2007.94500</td>\n",
       "    </tr>\n",
       "  </tbody>\n",
       "</table>\n",
       "<p>1064 rows × 7 columns</p>\n",
       "</div>"
      ],
      "text/plain": [
       "      age     sex     bmi  children smoker     region      charges\n",
       "1      18    male  33.770         1     no  southeast   1725.55230\n",
       "2      28    male  33.000         3     no  southeast   4449.46200\n",
       "3      33    male  22.705         0     no  northwest  21984.47061\n",
       "4      32    male  28.880         0     no  northwest   3866.85520\n",
       "5      31  female  25.740         0     no  southeast   3756.62160\n",
       "...   ...     ...     ...       ...    ...        ...          ...\n",
       "1332   52  female  44.700         3     no  southwest  11411.68500\n",
       "1333   50    male  30.970         3     no  northwest  10600.54830\n",
       "1334   18  female  31.920         0     no  northeast   2205.98080\n",
       "1335   18  female  36.850         0     no  southeast   1629.83350\n",
       "1336   21  female  25.800         0     no  southwest   2007.94500\n",
       "\n",
       "[1064 rows x 7 columns]"
      ]
     },
     "execution_count": 14,
     "metadata": {},
     "output_type": "execute_result"
    }
   ],
   "source": [
    "(df[df[\"smoker\"]=='no'])"
   ]
  },
  {
   "cell_type": "code",
   "execution_count": 15,
   "id": "68b5dac7",
   "metadata": {},
   "outputs": [
    {
     "name": "stdout",
     "output_type": "stream",
     "text": [
      "P (female | smoker): 0.42\n"
     ]
    }
   ],
   "source": [
    "n_smoker = len(df[df[\"smoker\"]=='yes'])\n",
    "n_female_and_smoker = len(df[(df[\"smoker\"]=='yes') & (df[\"sex\"]=='female')])\n",
    "\n",
    "prob = n_female_and_smoker / n_smoker\n",
    "print(\"P (female | smoker):\", round(prob,2))"
   ]
  },
  {
   "cell_type": "code",
   "execution_count": 16,
   "id": "89ec8562",
   "metadata": {},
   "outputs": [
    {
     "name": "stdout",
     "output_type": "stream",
     "text": [
      "P (male | smoker): 0.58\n"
     ]
    }
   ],
   "source": [
    "n_male_and_smoker = len(df[(df[\"smoker\"]=='yes') & (df[\"sex\"]=='male')])\n",
    "\n",
    "prob1 = n_male_and_smoker / n_smoker\n",
    "print(\"P (male | smoker):\", round(prob1,2))"
   ]
  },
  {
   "cell_type": "code",
   "execution_count": 17,
   "id": "f2f2bc80",
   "metadata": {},
   "outputs": [],
   "source": [
    "def expected_value(values, weights):\n",
    "    values = np.asarray(values)\n",
    "    weights = np.asarray(weights)\n",
    "    return (values * weights).sum() / weights.sum()"
   ]
  },
  {
   "cell_type": "code",
   "execution_count": 18,
   "id": "cdcd3c18",
   "metadata": {},
   "outputs": [],
   "source": [
    "df_female = df[(df[\"sex\"] == \"female\")]\n",
    "df_male = df[(df[\"sex\"] == \"male\")]"
   ]
  },
  {
   "cell_type": "code",
   "execution_count": 19,
   "id": "284dc184",
   "metadata": {
    "scrolled": true
   },
   "outputs": [
    {
     "data": {
      "text/plain": [
       "array([1], dtype=int64)"
      ]
     },
     "execution_count": 19,
     "metadata": {},
     "output_type": "execute_result"
    }
   ],
   "source": [
    "df_female_prob = pd.DataFrame(df_female.groupby('charges')['charges'].agg('count'))\n",
    "df_female_prob = df_female_prob.rename(columns={\"charges\":\"count\"})\n",
    "df_female_prob[\"count\"].unique()"
   ]
  },
  {
   "cell_type": "code",
   "execution_count": 20,
   "id": "60a37281",
   "metadata": {},
   "outputs": [
    {
     "name": "stdout",
     "output_type": "stream",
     "text": [
      "Expectation of charges for female: 12569.57884383535\n"
     ]
    }
   ],
   "source": [
    "df_female_prob[\"charges\"] = df_female_prob.index\n",
    "df_female_prob[\"prob\"] = df_female_prob[\"count\"]/1338\n",
    "\n",
    "x_female = df_female_prob[\"charges\"]\n",
    "probs  = df_female_prob[\"prob\"]\n",
    "\n",
    "#calculate expected value\n",
    "print(\"Expectation of charges for female:\", expected_value(x_female, probs))"
   ]
  },
  {
   "cell_type": "code",
   "execution_count": 21,
   "id": "9b710cad",
   "metadata": {},
   "outputs": [
    {
     "data": {
      "text/plain": [
       "array([1, 2], dtype=int64)"
      ]
     },
     "execution_count": 21,
     "metadata": {},
     "output_type": "execute_result"
    }
   ],
   "source": [
    "df_male_prob = pd.DataFrame(df_male.groupby('charges')['charges'].agg('count'))\n",
    "df_male_prob = df_male_prob.rename(columns={\"charges\":\"count\"})\n",
    "df_male_prob[\"count\"].unique()"
   ]
  },
  {
   "cell_type": "code",
   "execution_count": 22,
   "id": "e726203f",
   "metadata": {},
   "outputs": [
    {
     "name": "stdout",
     "output_type": "stream",
     "text": [
      "Expectation of charges for male: 13956.751177721893\n"
     ]
    }
   ],
   "source": [
    "df_male_prob[\"charges\"] = df_male_prob.index\n",
    "df_male_prob[\"prob\"] = df_male_prob[\"count\"]/1338\n",
    "\n",
    "x_male = df_male_prob[\"charges\"]\n",
    "probs_1  = df_male_prob[\"prob\"]\n",
    "\n",
    "#calculate expected value\n",
    "print(\"Expectation of charges for male:\", expected_value(x_male, probs_1))"
   ]
  },
  {
   "cell_type": "markdown",
   "id": "1a35000f",
   "metadata": {},
   "source": [
    "Gender of male has an expectation value of charges which higher than female"
   ]
  },
  {
   "cell_type": "markdown",
   "id": "15741a63",
   "metadata": {},
   "source": [
    "# Continuous Variables "
   ]
  },
  {
   "cell_type": "code",
   "execution_count": 23,
   "id": "43b162e7",
   "metadata": {},
   "outputs": [],
   "source": [
    "bmi_above= df[df[\"bmi\"] > 25]\n",
    "bmi_less= df[df[\"bmi\"] < 25]\n",
    "\n",
    "c1 = bmi_above[bmi_above[\"charges\"] > 16700]\n",
    "c2 = bmi_less[bmi_less[\"charges\"] > 16700]"
   ]
  },
  {
   "cell_type": "code",
   "execution_count": 24,
   "id": "ec4cd8f9",
   "metadata": {},
   "outputs": [
    {
     "name": "stderr",
     "output_type": "stream",
     "text": [
      "C:\\Users\\Mutiara Saviera\\anaconda3\\lib\\site-packages\\seaborn\\distributions.py:2619: FutureWarning: `distplot` is a deprecated function and will be removed in a future version. Please adapt your code to use either `displot` (a figure-level function with similar flexibility) or `histplot` (an axes-level function for histograms).\n",
      "  warnings.warn(msg, FutureWarning)\n",
      "C:\\Users\\Mutiara Saviera\\anaconda3\\lib\\site-packages\\seaborn\\distributions.py:2619: FutureWarning: `distplot` is a deprecated function and will be removed in a future version. Please adapt your code to use either `displot` (a figure-level function with similar flexibility) or `histplot` (an axes-level function for histograms).\n",
      "  warnings.warn(msg, FutureWarning)\n"
     ]
    },
    {
     "data": {
      "image/png": "[encoded data removed]",
      "text/plain": [
       "<Figure size 432x288 with 1 Axes>"
      ]
     },
     "metadata": {
      "needs_background": "light"
     },
     "output_type": "display_data"
    }
   ],
   "source": [
    "fig = sns.distplot(bmi_less['charges'], axlabel='Charges', kde=True)\n",
    "fig = sns.distplot(c2['charges'], axlabel='Charges', kde=True)\n",
    "plt.show()"
   ]
  },
  {
   "cell_type": "code",
   "execution_count": 25,
   "id": "c3012b0d",
   "metadata": {},
   "outputs": [
    {
     "name": "stderr",
     "output_type": "stream",
     "text": [
      "C:\\Users\\Mutiara Saviera\\anaconda3\\lib\\site-packages\\seaborn\\distributions.py:2619: FutureWarning: `distplot` is a deprecated function and will be removed in a future version. Please adapt your code to use either `displot` (a figure-level function with similar flexibility) or `histplot` (an axes-level function for histograms).\n",
      "  warnings.warn(msg, FutureWarning)\n",
      "C:\\Users\\Mutiara Saviera\\anaconda3\\lib\\site-packages\\seaborn\\distributions.py:2619: FutureWarning: `distplot` is a deprecated function and will be removed in a future version. Please adapt your code to use either `displot` (a figure-level function with similar flexibility) or `histplot` (an axes-level function for histograms).\n",
      "  warnings.warn(msg, FutureWarning)\n"
     ]
    },
    {
     "data": {
      "image/png": "[encoded data removed]",
      "text/plain": [
       "<Figure size 432x288 with 1 Axes>"
      ]
     },
     "metadata": {
      "needs_background": "light"
     },
     "output_type": "display_data"
    }
   ],
   "source": [
    "fig = sns.distplot(bmi_above['charges'], axlabel='Charges', kde=True)\n",
    "fig = sns.distplot(c1['charges'], axlabel='Charges', kde=True)\n",
    "plt.show()"
   ]
  },
  {
   "cell_type": "code",
   "execution_count": 26,
   "id": "b4010b83",
   "metadata": {},
   "outputs": [
    {
     "name": "stdout",
     "output_type": "stream",
     "text": [
      "Proportion of person who has BMI more than 25 to have charges up to 16.7K: 0.25939505041246563\n",
      "Proportion of person who has BMI less than 25 to have charges up to 16.7K : 0.20816326530612245\n"
     ]
    }
   ],
   "source": [
    "proportion1 = len(c1)/len(bmi_above)\n",
    "proportion2 = len(c2)/len(bmi_less)\n",
    "\n",
    "print(\"Proportion of person who has BMI more than 25 to have charges up to 16.7K:\", proportion1)\n",
    "print(\"Proportion of person who has BMI less than 25 to have charges up to 16.7K :\", proportion2)\n"
   ]
  },
  {
   "cell_type": "code",
   "execution_count": 27,
   "id": "0fc68412",
   "metadata": {},
   "outputs": [
    {
     "name": "stdout",
     "output_type": "stream",
     "text": [
      "Proportion of smoker who has BMI more than 25 to have charges up to 16.7K: 0.9817351598173516\n",
      "Proportion of non smoker who has BMI more than 25 to have charges up to 16.7K : 0.0779816513761468\n"
     ]
    }
   ],
   "source": [
    "c3 = df_smoker_bmi[df_smoker_bmi[\"charges\"] > 16700]\n",
    "c4 = df_non_smoker_bmi[df_non_smoker_bmi[\"charges\"] > 16700]\n",
    "\n",
    "proportion3 = len(c3)/len(df_smoker_bmi)\n",
    "proportion4 = len(c4)/len(df_non_smoker_bmi)\n",
    "\n",
    "print(\"Proportion of smoker who has BMI more than 25 to have charges up to 16.7K:\", proportion3)\n",
    "print(\"Proportion of non smoker who has BMI more than 25 to have charges up to 16.7K :\", proportion4)"
   ]
  },
  {
   "cell_type": "code",
   "execution_count": 28,
   "id": "6122fec3",
   "metadata": {},
   "outputs": [
    {
     "name": "stderr",
     "output_type": "stream",
     "text": [
      "C:\\Users\\Mutiara Saviera\\anaconda3\\lib\\site-packages\\seaborn\\distributions.py:2619: FutureWarning: `distplot` is a deprecated function and will be removed in a future version. Please adapt your code to use either `displot` (a figure-level function with similar flexibility) or `histplot` (an axes-level function for histograms).\n",
      "  warnings.warn(msg, FutureWarning)\n"
     ]
    },
    {
     "data": {
      "image/png": "[encoded data removed]",
      "text/plain": [
       "<Figure size 432x288 with 1 Axes>"
      ]
     },
     "metadata": {
      "needs_background": "light"
     },
     "output_type": "display_data"
    }
   ],
   "source": [
    "fig = sns.distplot(c3['charges'], axlabel='Charges', kde=True)\n",
    "plt.show()"
   ]
  },
  {
   "cell_type": "code",
   "execution_count": 29,
   "id": "87f42797",
   "metadata": {},
   "outputs": [
    {
     "name": "stderr",
     "output_type": "stream",
     "text": [
      "C:\\Users\\Mutiara Saviera\\anaconda3\\lib\\site-packages\\seaborn\\distributions.py:2619: FutureWarning: `distplot` is a deprecated function and will be removed in a future version. Please adapt your code to use either `displot` (a figure-level function with similar flexibility) or `histplot` (an axes-level function for histograms).\n",
      "  warnings.warn(msg, FutureWarning)\n"
     ]
    },
    {
     "data": {
      "image/png": "[encoded data removed]",
      "text/plain": [
       "<Figure size 432x288 with 1 Axes>"
      ]
     },
     "metadata": {
      "needs_background": "light"
     },
     "output_type": "display_data"
    }
   ],
   "source": [
    "fig = sns.distplot(c4['charges'], axlabel='Charges', kde=True)\n",
    "plt.show()"
   ]
  },
  {
   "cell_type": "markdown",
   "id": "b7fb3d4a",
   "metadata": {},
   "source": [
    "# Correlation of Variables"
   ]
  },
  {
   "cell_type": "code",
   "execution_count": 30,
   "id": "685253bc",
   "metadata": {},
   "outputs": [],
   "source": [
    "df = df.replace({'sex': {'female': 1,'male': 0}})\n",
    "df = df.replace({'smoker': {'yes': 1,'no': 0}})\n",
    "df = df.replace({'region': {'southeast': 0,'southwest': 1,'northeast': 2,'northwest': 3}})"
   ]
  },
  {
   "cell_type": "code",
   "execution_count": 31,
   "id": "bb1dea8e",
   "metadata": {},
   "outputs": [
    {
     "data": {
      "text/plain": [
       "<AxesSubplot:>"
      ]
     },
     "execution_count": 31,
     "metadata": {},
     "output_type": "execute_result"
    },
    {
     "data": {
      "image/png": "[encoded data removed]",
      "text/plain": [
       "<Figure size 432x288 with 2 Axes>"
      ]
     },
     "metadata": {
      "needs_background": "light"
     },
     "output_type": "display_data"
    }
   ],
   "source": [
    "corrMatrix = df.corr()\n",
    "sns.heatmap(corrMatrix, annot = True, cmap= 'coolwarm')"
   ]
  },
  {
   "cell_type": "markdown",
   "id": "ebf0524d",
   "metadata": {},
   "source": [
    "There is a signifant correlation of smoker status and charges"
   ]
  },
  {
   "cell_type": "markdown",
   "id": "59bccf2c",
   "metadata": {},
   "source": [
    "# Hypothesis Testing"
   ]
  },
  {
   "cell_type": "code",
   "execution_count": 32,
   "id": "44360c54",
   "metadata": {},
   "outputs": [
    {
     "data": {
      "text/plain": [
       "(32.751887766341824, 5.88946444671698e-103)"
      ]
     },
     "execution_count": 32,
     "metadata": {},
     "output_type": "execute_result"
    }
   ],
   "source": [
    "# Hypothesis 1\n",
    "\n",
    "stat, p = stats.ttest_ind(df_smoker[\"charges\"],df_non_smoker[\"charges\"], equal_var = False)\n",
    "stat, p\n"
   ]
  },
  {
   "cell_type": "markdown",
   "id": "9b79d533",
   "metadata": {},
   "source": [
    "Since p-value < 0.05, then reject H0.\n",
    "It can be said that charges of smoker are higher than charges of non smoker (with significancy level at 5%)"
   ]
  },
  {
   "cell_type": "code",
   "execution_count": 33,
   "id": "987c58ae",
   "metadata": {},
   "outputs": [
    {
     "data": {
      "text/plain": [
       "(5.929878344096734, 5.080897303161378e-09)"
      ]
     },
     "execution_count": 33,
     "metadata": {},
     "output_type": "execute_result"
    }
   ],
   "source": [
    "# Hypothesis 2\n",
    "\n",
    "bmi_lebih= df[df[\"bmi\"] > 25]\n",
    "bmi_kurang= df[df[\"bmi\"] < 25]\n",
    "\n",
    "stat, p = stats.ttest_ind(bmi_lebih[\"charges\"],bmi_kurang[\"charges\"], equal_var = False)\n",
    "stat, p\n"
   ]
  },
  {
   "cell_type": "markdown",
   "id": "d9359aac",
   "metadata": {},
   "source": [
    "Since p-value < 0.05, then reject H0.\n",
    "It can be said that charges of people who have BMI more than more than 25 are higher than charges people who have BMI less than more than 25 (with significancy level at 5%)"
   ]
  },
  {
   "cell_type": "code",
   "execution_count": 34,
   "id": "26cd9833",
   "metadata": {},
   "outputs": [
    {
     "data": {
      "text/plain": [
       "(2.1008878232359565, 0.035841014956016645)"
      ]
     },
     "execution_count": 34,
     "metadata": {},
     "output_type": "execute_result"
    }
   ],
   "source": [
    "# Hypothesis 3\n",
    "# Charges of male more than female\n",
    "\n",
    "df_female = df[(df[\"sex\"] == 1)]\n",
    "df_male = df[(df[\"sex\"] == 0)]\n",
    "\n",
    "stat, p = stats.ttest_ind(df_male[\"charges\"],df_female[\"charges\"], equal_var = False)\n",
    "stat, p"
   ]
  },
  {
   "cell_type": "markdown",
   "id": "82e84794",
   "metadata": {},
   "source": [
    "Since p-value < 0.05, then reject H0.\n",
    "It can be said that charges of male are higher than charges of female (with significancy level at 5%)"
   ]
  }
 ],
 "metadata": {
  "kernelspec": {
   "display_name": "Python 3 (ipykernel)",
   "language": "python",
   "name": "python3"
  },
  "language_info": {
   "codemirror_mode": {
    "name": "ipython",
    "version": 3
   },
   "file_extension": ".py",
   "mimetype": "text/x-python",
   "name": "python",
   "nbconvert_exporter": "python",
   "pygments_lexer": "ipython3",
   "version": "3.8.5"
  }
 },
 "nbformat": 4,
 "nbformat_minor": 5
}
